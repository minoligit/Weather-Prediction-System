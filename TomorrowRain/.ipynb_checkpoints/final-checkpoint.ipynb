{
 "cells": [
  {
   "cell_type": "code",
   "execution_count": 32,
   "id": "0420cadf",
   "metadata": {},
   "outputs": [],
   "source": [
    "import numpy as np\n",
    "import pandas as pd\n",
    "import matplotlib.pyplot as plt\n",
    "from sklearn.preprocessing import LabelEncoder\n",
    "from sklearn.model_selection import train_test_split\n",
    "from sklearn.metrics import accuracy_score\n",
    "from joblib import Parallel, delayed\n",
    "import joblib"
   ]
  },
  {
   "cell_type": "code",
   "execution_count": 33,
   "id": "f01b1822",
   "metadata": {},
   "outputs": [],
   "source": [
    "df = pd.read_csv(\"../weatherAUS.csv\")"
   ]
  },
  {
   "cell_type": "code",
   "execution_count": 34,
   "id": "b499783b",
   "metadata": {},
   "outputs": [],
   "source": [
    "#Remove Rows where required columns are null\n",
    "df1 = df[df['RainTomorrow'].notna() & df['Location'].notna()]\n",
    "\n",
    "#Remove columns\n",
    "df1 = df1.drop('Date', axis=1)"
   ]
  },
  {
   "cell_type": "code",
   "execution_count": 35,
   "id": "2d94e29f",
   "metadata": {},
   "outputs": [],
   "source": [
    "# total = df['Date'].count()\n",
    "# print(\"Min Temp : \"+str(df1['MinTemp'].isna().sum()*100/total))\n",
    "# print(\"Max Temp: \"+str(df1['MaxTemp'].isna().sum()*100/total))\n",
    "# print(\"Rainfall : \"+str(df1['Rainfall'].isna().sum()*100/total))\n",
    "# print(\"Evaporation: \"+str(df1['Evaporation'].isna().sum()*100/total))\n",
    "# print(\"Sunshine : \"+str(df1['Sunshine'].isna().sum()*100/total))\n",
    "# print(\"WindGustDir : \"+str(df1['WindGustDir'].isna().sum()*100/total))\n",
    "# print(\"WindGustSpeed : \"+str(df1['WindGustSpeed'].isna().sum()*100/total))\n",
    "# print(\"WindDir9am : \"+str(df1['WindDir9am'].isna().sum()*100/total))\n",
    "# print(\"WindDir3pm  : \"+str(df1['WindDir3pm'].isna().sum()*100/total))\n",
    "# print(\"WindSpeed9am : \"+str(df1['WindSpeed9am'].isna().sum()*100/total))\n",
    "# print(\"WindSpeed3pm : \"+str(df1['WindSpeed3pm'].isna().sum()*100/total))\n",
    "# print(\"Humidity9am : \"+str(df1['Humidity9am'].isna().sum()*100/total))\n",
    "# print(\"Humidity3pm : \"+str(df1['Humidity3pm'].isna().sum()*100/total))\n",
    "# print(\"Pressure9am  : \"+str(df1['Pressure9am'].isna().sum()*100/total))\n",
    "# print(\"Pressure3pm : \"+str(df1['Pressure3pm'].isna().sum()*100/total))\n",
    "# print(\"Cloud9am : \"+str(df1['Cloud9am'].isna().sum()*100/total))\n",
    "# print(\"Cloud3pm : \"+str(df1['Cloud3pm'].isna().sum()*100/total))\n",
    "# print(\"Temp9am : \"+str(df1['Temp9am'].isna().sum()*100/total))\n",
    "# print(\"Temp3pm : \"+str(df1['Temp3pm'].isna().sum()*100/total))\n",
    "# print(\"RainToday  : \"+str(df1['RainToday'].isna().sum()*100/total))\n",
    "# print(\"RainTomorrow : \"+str(df1['RainTomorrow'].isna().sum()*100/total))"
   ]
  },
  {
   "cell_type": "code",
   "execution_count": 41,
   "id": "702f03e2",
   "metadata": {
    "scrolled": true
   },
   "outputs": [
    {
     "name": "stderr",
     "output_type": "stream",
     "text": [
      "C:\\Users\\HP\\AppData\\Local\\Temp\\ipykernel_7468\\1578812765.py:6: FutureWarning: Dropping of nuisance columns in DataFrame reductions (with 'numeric_only=None') is deprecated; in a future version this will raise TypeError.  Select only valid columns before calling the reduction.\n",
      "  df1[mean_col] = df1[mean_col].fillna(df1.mean())\n"
     ]
    },
    {
     "name": "stdout",
     "output_type": "stream",
     "text": [
      "{'WindGustDir': {'Adelaide': 'WSW', 'Albany': array([], dtype=object), 'Albury': 'W', 'AliceSprings': 'ESE', 'BadgerysCreek': 'SW', 'Ballarat': 'N', 'Bendigo': 'SSE', 'Brisbane': 'E', 'Cairns': 'SE', 'Canberra': 'NW', 'Cobar': 'SW', 'CoffsHarbour': 'NE', 'Dartmoor': 'SSW', 'Darwin': 'E', 'GoldCoast': 'SSE', 'Hobart': 'NNW', 'Katherine': 'E', 'Launceston': 'NNW', 'Melbourne': 'N', 'MelbourneAirport': 'N', 'Mildura': 'SSW', 'Moree': 'NNE', 'MountGambier': 'S', 'MountGinini': 'W', 'Newcastle': array([], dtype=object), 'Nhil': 'W', 'NorahHead': 'S', 'NorfolkIsland': 'E', 'Nuriootpa': 'SE', 'PearceRAAF': 'E', 'Penrith': 'SE', 'Perth': 'SW', 'PerthAirport': 'E', 'Portland': 'W', 'Richmond': 'SE', 'Sale': 'W', 'SalmonGums': 'SSW', 'Sydney': 'W', 'SydneyAirport': 'S', 'Townsville': 'ENE', 'Tuggeranong': 'WNW', 'Uluru': 'E', 'WaggaWagga': 'ENE', 'Walpole': 'SE', 'Watsonia': 'SSW', 'Williamtown': 'WNW', 'Witchcliffe': 'SSE', 'Wollongong': 'NE', 'Woomera': 'SSE'}, 'WindDir9am': {'Adelaide': 'NNE', 'Albany': 'NW', 'Albury': 'SE', 'AliceSprings': 'ESE', 'BadgerysCreek': 'SW', 'Ballarat': 'N', 'Bendigo': 'SSE', 'Brisbane': 'SW', 'Cairns': 'SSE', 'Canberra': 'NNW', 'Cobar': 'NE', 'CoffsHarbour': 'SW', 'Dartmoor': 'N', 'Darwin': 'SE', 'GoldCoast': 'SSE', 'Hobart': 'NNW', 'Katherine': 'SE', 'Launceston': 'NNW', 'Melbourne': 'N', 'MelbourneAirport': 'N', 'Mildura': 'S', 'Moree': 'NNE', 'MountGambier': 'N', 'MountGinini': 'W', 'Newcastle': 'NW', 'Nhil': 'S', 'NorahHead': 'SSW', 'NorfolkIsland': 'E', 'Nuriootpa': 'NE', 'PearceRAAF': 'E', 'Penrith': 'SSW', 'Perth': 'E', 'PerthAirport': 'ENE', 'Portland': 'N', 'Richmond': 'SSW', 'Sale': 'W', 'SalmonGums': 'N', 'Sydney': 'W', 'SydneyAirport': 'NW', 'Townsville': 'SE', 'Tuggeranong': 'NW', 'Uluru': 'E', 'WaggaWagga': 'E', 'Walpole': 'NW', 'Watsonia': 'ENE', 'Williamtown': 'WNW', 'Witchcliffe': 'SE', 'Wollongong': 'SW', 'Woomera': 'SE'}, 'WindDir3pm': {'Adelaide': 'WSW', 'Albany': 'ESE', 'Albury': 'W', 'AliceSprings': 'ESE', 'BadgerysCreek': 'NNE', 'Ballarat': 'N', 'Bendigo': 'N', 'Brisbane': 'ENE', 'Cairns': 'SE', 'Canberra': 'NW', 'Cobar': 'SW', 'CoffsHarbour': 'NE', 'Dartmoor': 'SSW', 'Darwin': 'WNW', 'GoldCoast': 'SE', 'Hobart': 'SE', 'Katherine': 'ESE', 'Launceston': 'NNW', 'Melbourne': 'S', 'MelbourneAirport': 'S', 'Mildura': 'S', 'Moree': 'SW', 'MountGambier': 'S', 'MountGinini': 'W', 'Newcastle': 'SE', 'Nhil': 'W', 'NorahHead': 'NE', 'NorfolkIsland': 'SE', 'Nuriootpa': 'WSW', 'PearceRAAF': 'SW', 'Penrith': 'NE', 'Perth': 'SW', 'PerthAirport': 'WSW', 'Portland': 'W', 'Richmond': 'NE', 'Sale': 'E', 'SalmonGums': 'S', 'Sydney': 'E', 'SydneyAirport': 'NE', 'Townsville': 'ENE', 'Tuggeranong': 'NW', 'Uluru': 'E', 'WaggaWagga': 'WSW', 'Walpole': 'SSE', 'Watsonia': array(['SSW', 'SW'], dtype=object), 'Williamtown': 'ESE', 'Witchcliffe': 'SSE', 'Wollongong': 'NE', 'Woomera': 'SSW'}, 'RainToday': {'Adelaide': 'No', 'Albany': 'No', 'Albury': 'No', 'AliceSprings': 'No', 'BadgerysCreek': 'No', 'Ballarat': 'No', 'Bendigo': 'No', 'Brisbane': 'No', 'Cairns': 'No', 'Canberra': 'No', 'Cobar': 'No', 'CoffsHarbour': 'No', 'Dartmoor': 'No', 'Darwin': 'No', 'GoldCoast': 'No', 'Hobart': 'No', 'Katherine': 'No', 'Launceston': 'No', 'Melbourne': 'No', 'MelbourneAirport': 'No', 'Mildura': 'No', 'Moree': 'No', 'MountGambier': 'No', 'MountGinini': 'No', 'Newcastle': 'No', 'Nhil': 'No', 'NorahHead': 'No', 'NorfolkIsland': 'No', 'Nuriootpa': 'No', 'PearceRAAF': 'No', 'Penrith': 'No', 'Perth': 'No', 'PerthAirport': 'No', 'Portland': 'No', 'Richmond': 'No', 'Sale': 'No', 'SalmonGums': 'No', 'Sydney': 'No', 'SydneyAirport': 'No', 'Townsville': 'No', 'Tuggeranong': 'No', 'Uluru': 'No', 'WaggaWagga': 'No', 'Walpole': 'No', 'Watsonia': 'No', 'Williamtown': 'No', 'Witchcliffe': 'No', 'Wollongong': 'No', 'Woomera': 'No'}}\n"
     ]
    }
   ],
   "source": [
    "#Replace numerical missing data \n",
    "#Replace with mean values\n",
    "mean_col = ['MinTemp','MaxTemp','Rainfall','Evaporation','Sunshine','WindGustSpeed','WindSpeed9am','WindSpeed3pm','Humidity9am','Humidity3pm','Pressure9am','Pressure3pm','Cloud9am','Cloud3pm','Temp9am','Temp3pm']\n",
    "#Replace with mean of the column for null mean values of groups\n",
    "df1[mean_col] = df1[mean_col].fillna(df1.groupby('Location')[mean_col].mean()[mean_col])\n",
    "df1[mean_col] = df1[mean_col].fillna(df1.mean())\n",
    "\n",
    "#Replace categorical values\n",
    "#Replace with mode values \n",
    "mode_col = ['WindGustDir','WindDir9am','WindDir3pm','RainToday']\n",
    "df1[mode_col] = df1[mode_col].fillna(df1.mode())\n",
    "arr = df1.groupby('Location')[['WindGustDir','WindDir9am','WindDir3pm','RainToday']].agg(pd.Series.mode).to_dict()"
   ]
  },
  {
   "cell_type": "code",
   "execution_count": 26,
   "id": "1677466c",
   "metadata": {},
   "outputs": [],
   "source": [
    "# print(\"Min Temp : \"+str(df1['MinTemp'].isna().sum()*100/total))\n",
    "# print(\"Max Temp: \"+str(df1['MaxTemp'].isna().sum()*100/total))\n",
    "# print(\"Rainfall : \"+str(df1['Rainfall'].isna().sum()*100/total))\n",
    "# print(\"Evaporation: \"+str(df1['Evaporation'].isna().sum()*100/total))\n",
    "# print(\"Sunshine : \"+str(df1['Sunshine'].isna().sum()*100/total))\n",
    "# print(\"WindGustDir : \"+str(df1['WindGustDir'].isna().sum()*100/total))\n",
    "# print(\"WindGustSpeed : \"+str(df1['WindGustSpeed'].isna().sum()*100/total))\n",
    "# print(\"WindDir9am : \"+str(df1['WindDir9am'].isna().sum()*100/total))\n",
    "# print(\"WindDir3pm  : \"+str(df1['WindDir3pm'].isna().sum()*100/total))\n",
    "# print(\"WindSpeed9am : \"+str(df1['WindSpeed9am'].isna().sum()*100/total))\n",
    "# print(\"WindSpeed3pm : \"+str(df1['WindSpeed3pm'].isna().sum()*100/total))\n",
    "# print(\"Humidity9am : \"+str(df1['Humidity9am'].isna().sum()*100/total))\n",
    "# print(\"Humidity3pm : \"+str(df1['Humidity3pm'].isna().sum()*100/total))\n",
    "# print(\"Pressure9am  : \"+str(df1['Pressure9am'].isna().sum()*100/total))\n",
    "# print(\"Pressure3pm : \"+str(df1['Pressure3pm'].isna().sum()*100/total))\n",
    "# print(\"Cloud9am : \"+str(df1['Cloud9am'].isna().sum()*100/total))\n",
    "# print(\"Cloud3pm : \"+str(df1['Cloud3pm'].isna().sum()*100/total))\n",
    "# print(\"Temp9am : \"+str(df1['Temp9am'].isna().sum()*100/total))\n",
    "# print(\"Temp3pm : \"+str(df1['Temp3pm'].isna().sum()*100/total))\n",
    "# print(\"RainToday  : \"+str(df1['RainToday'].isna().sum()*100/total))\n",
    "# print(\"RainTomorrow : \"+str(df1['RainTomorrow'].isna().sum()*100/total))"
   ]
  },
  {
   "cell_type": "code",
   "execution_count": 27,
   "id": "bed62615",
   "metadata": {},
   "outputs": [],
   "source": [
    "#Convert label values into numerical values\n",
    "le = LabelEncoder()\n",
    "df1['Location'] = le.fit_transform(df1['Location'])\n",
    "mapping_Location = dict(zip(le.classes_, range(1, len(le.classes_)+1)))\n",
    "df1['WindGustDir'] = le.fit_transform(df1['WindGustDir'])\n",
    "mapping_WindDir = dict(zip(le.classes_, range(1, len(le.classes_)+1)))\n",
    "df1['WindDir9am'] = le.fit_transform(df1['WindDir9am'])\n",
    "df1['WindDir3pm'] = le.fit_transform(df1['WindDir3pm'])\n",
    "df1['RainToday'] = le.fit_transform(df1['RainToday'])\n",
    "df1['RainTomorrow'] = le.fit_transform(df1['RainTomorrow'])\n",
    "mapping_Rain = dict(zip(le.classes_, range(1, len(le.classes_)+1)))"
   ]
  },
  {
   "cell_type": "code",
   "execution_count": 28,
   "id": "be187736",
   "metadata": {},
   "outputs": [],
   "source": [
    "#Define x,y variables\n",
    "x = df1.drop(['RainTomorrow'], axis=1)\n",
    "y = df1['RainTomorrow']"
   ]
  },
  {
   "cell_type": "code",
   "execution_count": 29,
   "id": "acb9193f",
   "metadata": {},
   "outputs": [],
   "source": [
    "#Divide the dataset for training and testing\n",
    "x_train, x_test, y_train, y_test=train_test_split(x, y, test_size=0.2)"
   ]
  },
  {
   "cell_type": "code",
   "execution_count": 30,
   "id": "950bfd37",
   "metadata": {},
   "outputs": [
    {
     "name": "stdout",
     "output_type": "stream",
     "text": [
      "Model 4 accuracy (Logistic Regression): 0.8399\n"
     ]
    }
   ],
   "source": [
    "#Logistic Regression\n",
    "from sklearn.linear_model import LogisticRegression\n",
    "\n",
    "#Logistic regression to the training set model 4\n",
    "logreg = LogisticRegression(solver='liblinear', random_state=0)\n",
    "result = logreg.fit(x_train, y_train)\n",
    "\n",
    "#Predict the test set results model 4\n",
    "y_pred_test = logreg.predict(x_test)\n",
    "print('Model 4 accuracy (Logistic Regression): {0:0.4f}'. format(accuracy_score(y_test, y_pred_test)))\n",
    "result_tomorrow_rain = format(accuracy_score(y_test, y_pred_test))"
   ]
  },
  {
   "cell_type": "code",
   "execution_count": 31,
   "id": "ea08f4f5",
   "metadata": {},
   "outputs": [
    {
     "data": {
      "text/plain": [
       "['TomorrowRain_model.pkl']"
      ]
     },
     "execution_count": 31,
     "metadata": {},
     "output_type": "execute_result"
    }
   ],
   "source": [
    "#Save the trained model\n",
    "filename = \"TomorrowRain_model.pkl\"\n",
    "joblib.dump(logreg, filename)"
   ]
  }
 ],
 "metadata": {
  "kernelspec": {
   "display_name": "Python 3 (ipykernel)",
   "language": "python",
   "name": "python3"
  },
  "language_info": {
   "codemirror_mode": {
    "name": "ipython",
    "version": 3
   },
   "file_extension": ".py",
   "mimetype": "text/x-python",
   "name": "python",
   "nbconvert_exporter": "python",
   "pygments_lexer": "ipython3",
   "version": "3.9.12"
  }
 },
 "nbformat": 4,
 "nbformat_minor": 5
}
