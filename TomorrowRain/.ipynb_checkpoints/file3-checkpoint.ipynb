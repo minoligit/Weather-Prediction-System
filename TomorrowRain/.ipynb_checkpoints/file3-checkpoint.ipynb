{
 "cells": [
  {
   "cell_type": "code",
   "execution_count": null,
   "id": "ef37bae8",
   "metadata": {},
   "outputs": [],
   "source": [
    "import numpy as np\n",
    "import pandas as pd\n",
    "import matplotlib.pyplot as plt\n",
    "from sklearn.preprocessing import LabelEncoder\n",
    "from sklearn.model_selection import train_test_split\n",
    "from sklearn.metrics import accuracy_score"
   ]
  },
  {
   "cell_type": "code",
   "execution_count": null,
   "id": "a10e22dd",
   "metadata": {},
   "outputs": [],
   "source": [
    "df = pd.read_csv(\"../weatherAUS.csv\")\n",
    "df"
   ]
  },
  {
   "cell_type": "code",
   "execution_count": null,
   "id": "4f79e1de",
   "metadata": {},
   "outputs": [],
   "source": [
    "# print(df['MinTemp'])\n",
    "total = df['Location'].count()\n",
    "print(\"Null values percentage\")\n",
    "#print(\"Min Temp : \"+str(df['MinTemp'].isna().sum()*100/total))\n",
    "#print(\"Max Temp: \"+str(df['MaxTemp'].isna().sum()*100/total))\n",
    "#print(\"Rainfall : \"+str(df['Rainfall'].isna().sum()*100/total))\n",
    "#print(\"Evaporation: \"+str(df['Evaporation'].isna().sum()*100/total))\n",
    "#print(\"Sunshine : \"+str(df['Sunshine'].isna().sum()*100/total))\n",
    "print(\"WindGustDir : \"+str(df['WindGustDir'].isna().sum()*100/total))\n",
    "print(\"WindGustSpeed : \"+str(df['WindGustSpeed'].isna().sum()*100/total))\n",
    "print(\"WindDir9am : \"+str(df['WindDir9am'].isna().sum()*100/total))\n",
    "print(\"WindDir3pm  : \"+str(df['WindDir3pm'].isna().sum()*100/total))\n",
    "#print(\"WindSpeed9am : \"+str(df['WindSpeed9am'].isna().sum()*100/total))\n",
    "#print(\"WindSpeed3pm : \"+str(df['WindSpeed3pm'].isna().sum()*100/total))\n",
    "#print(\"Humidity9am : \"+str(df['Humidity9am'].isna().sum()*100/total))\n",
    "#print(\"Humidity3pm : \"+str(df['Humidity3pm'].isna().sum()*100/total))\n",
    "print(\"Pressure9am  : \"+str(df['Pressure9am'].isna().sum()*100/total))\n",
    "print(\"Pressure3pm : \"+str(df['Pressure3pm'].isna().sum()*100/total))\n",
    "#print(\"Cloud9am : \"+str(df['Cloud9am'].isna().sum()*100/total))\n",
    "#print(\"Cloud3pm : \"+str(df['Cloud3pm'].isna().sum()*100/total))\n",
    "#print(\"Temp9am : \"+str(df['Temp9am'].isna().sum()*100/total))\n",
    "#print(\"Temp3pm : \"+str(df['Temp3pm'].isna().sum()*100/total))\n",
    "print(\"RainToday  : \"+str(df['RainToday'].isna().sum()*100/total))"
   ]
  },
  {
   "cell_type": "code",
   "execution_count": null,
   "id": "d189901a",
   "metadata": {},
   "outputs": [],
   "source": [
    "#Remove Rows where required columns are null\n",
    "df1 = df[df['RainTomorrow'].notna() & df['Location'].notna()]\n",
    "\n",
    "#Remove columns\n",
    "df1 = df1.drop('Date', axis=1)\n",
    "\n",
    "#Remove Columns where null % >20%\n",
    "df1 = df1.drop(columns=['Evaporation','Sunshine','Cloud9am','Cloud3pm'])"
   ]
  },
  {
   "cell_type": "code",
   "execution_count": null,
   "id": "e3bd0b6a",
   "metadata": {},
   "outputs": [],
   "source": [
    "#Replace numerical missing data \n",
    "#Replace with mean values where null% <=20\n",
    "mean_col = ['MinTemp','MaxTemp','Rainfall','WindGustSpeed','WindSpeed9am','WindSpeed3pm','Humidity9am','Humidity3pm','Pressure9am','Pressure3pm','Temp9am','Temp3pm']\n",
    "df1[mean_col] = df1[mean_col].fillna(df1.groupby('Location')[mean_col].transform(lambda x: x.fillna(x.mean())))\n",
    "#Replace with mean of the column for null mean values of groups\n",
    "df1[mean_col] = df1[mean_col].fillna(df1.groupby('Location')[mean_col].mean().mean())\n",
    "\n",
    "#Replace with mode values for categorical values\n",
    "mode_col = ['WindGustDir','WindDir9am','WindDir3pm','RainToday']\n",
    "df1[mode_col] = df1[mode_col].fillna(df1.groupby('Location')[mode_col].transform(lambda x: x.fillna(x.mode().iloc[0])))\n",
    "#Replace with mode of the column for null mode values of groups\n",
    "df1[mode_col] = df1[mode_col].fillna(df1.mode().iloc[0])"
   ]
  },
  {
   "cell_type": "code",
   "execution_count": null,
   "id": "9b36d694",
   "metadata": {},
   "outputs": [],
   "source": [
    "print(\"Min Temp : \"+str(df1['MinTemp'].isna().sum()*100/total))\n",
    "print(\"Max Temp: \"+str(df1['MaxTemp'].isna().sum()*100/total))\n",
    "print(\"Rainfall : \"+str(df1['Rainfall'].isna().sum()*100/total))\n",
    "print(\"WindGustDir : \"+str(df1['WindGustDir'].isna().sum()*100/total))\n",
    "print(\"WindGustSpeed : \"+str(df1['WindGustSpeed'].isna().sum()*100/total))\n",
    "print(\"WindDir9am : \"+str(df1['WindDir9am'].isna().sum()*100/total))\n",
    "print(\"WindDir3pm  : \"+str(df1['WindDir3pm'].isna().sum()*100/total))\n",
    "print(\"WindSpeed9am : \"+str(df1['WindSpeed9am'].isna().sum()*100/total))\n",
    "print(\"WindSpeed3pm : \"+str(df1['WindSpeed3pm'].isna().sum()*100/total))\n",
    "print(\"Humidity9am : \"+str(df1['Humidity9am'].isna().sum()*100/total))\n",
    "print(\"Humidity3pm : \"+str(df1['Humidity3pm'].isna().sum()*100/total))\n",
    "print(\"Pressure9am  : \"+str(df1['Pressure9am'].isna().sum()*100/total))\n",
    "print(\"Pressure3pm : \"+str(df1['Pressure3pm'].isna().sum()*100/total))\n",
    "print(\"Temp9am : \"+str(df1['Temp9am'].isna().sum()*100/total))\n",
    "print(\"Temp3pm : \"+str(df1['Temp3pm'].isna().sum()*100/total))\n",
    "print(\"RainToday  : \"+str(df1['RainToday'].isna().sum()*100/total))\n",
    "print(\"RainTomorrow : \"+str(df1['RainTomorrow'].isna().sum()*100/total))"
   ]
  },
  {
   "cell_type": "code",
   "execution_count": null,
   "id": "41b89923",
   "metadata": {},
   "outputs": [],
   "source": [
    "#Convert label values into numerical values\n",
    "le = LabelEncoder()\n",
    "df1['Location'] = le.fit_transform(df1['Location'])\n",
    "df1['WindGustDir'] = le.fit_transform(df1['WindGustDir'])\n",
    "df1['WindDir9am'] = le.fit_transform(df1['WindDir9am'])\n",
    "df1['WindDir3pm'] = le.fit_transform(df1['WindDir3pm'])\n",
    "df1['RainToday'] = le.fit_transform(df1['RainToday'])\n",
    "df1['RainTomorrow'] = le.fit_transform(df1['RainTomorrow'])"
   ]
  },
  {
   "cell_type": "code",
   "execution_count": null,
   "id": "949c15a7",
   "metadata": {},
   "outputs": [],
   "source": [
    "#Define x,y variables\n",
    "x = df1.drop(['RainTomorrow'], axis=1)\n",
    "y = df1['RainTomorrow']"
   ]
  },
  {
   "cell_type": "code",
   "execution_count": null,
   "id": "5f2ca724",
   "metadata": {},
   "outputs": [],
   "source": [
    "#Divide the dataset for training and testing\n",
    "x_train, x_test, y_train, y_test=train_test_split(x, y, test_size=0.2)"
   ]
  },
  {
   "cell_type": "code",
   "execution_count": 26,
   "id": "19ec66eb",
   "metadata": {},
   "outputs": [
    {
     "name": "stdout",
     "output_type": "stream",
     "text": [
      "Model 3 accuracy (Linear Regression): 0.8390\n"
     ]
    }
   ],
   "source": [
    "#Logistic Regression\n",
    "from sklearn.linear_model import LogisticRegression\n",
    "\n",
    "#Logistic regression to the training set model 3\n",
    "logreg = LogisticRegression(solver='liblinear', random_state=0)\n",
    "result = logreg.fit(x_train, y_train)\n",
    "\n",
    "#Predict the test set results model 3\n",
    "y_pred_test = logreg.predict(x_test)\n",
    "print('Model 3 accuracy (Logistic Regression): {0:0.4f}'. format(accuracy_score(y_test, y_pred_test)))"
   ]
  },
  {
   "cell_type": "code",
   "execution_count": 27,
   "id": "a90a0f00",
   "metadata": {},
   "outputs": [
    {
     "name": "stdout",
     "output_type": "stream",
     "text": [
      "Model 3 accuracy (Naive Bayes): 0.8099\n"
     ]
    }
   ],
   "source": [
    "#Naive Bayes\n",
    "from sklearn.preprocessing import StandardScaler  \n",
    "from sklearn.naive_bayes import GaussianNB  \n",
    "\n",
    "#Feature scaling\n",
    "sc = StandardScaler()  \n",
    "x_train = sc.fit_transform(x_train)  \n",
    "x_test = sc.transform(x_test)  \n",
    "\n",
    "#Fit Naive Bayes to the training set model 3\n",
    "classifier = GaussianNB()  \n",
    "classifier.fit(x_train, y_train)  \n",
    "\n",
    "#Predict the test set results model 3\n",
    "y_pred_test = classifier.predict(x_test)  \n",
    "print('Model 3 accuracy (Naive Bayes): {0:0.4f}'. format(accuracy_score(y_test, y_pred_test)))"
   ]
  },
  {
   "cell_type": "code",
   "execution_count": 28,
   "id": "cb3ccb03",
   "metadata": {},
   "outputs": [
    {
     "name": "stdout",
     "output_type": "stream",
     "text": [
      "Model 3 accuracy (K-Nearest Neighbor): 0.8336\n"
     ]
    }
   ],
   "source": [
    "#K-Nearest Neighbor\n",
    "from sklearn.preprocessing import StandardScaler \n",
    "from sklearn.neighbors import KNeighborsClassifier  \n",
    "\n",
    "#Feature Scaling     \n",
    "sc= StandardScaler()    \n",
    "x_train= sc.fit_transform(x_train)    \n",
    "x_test= sc.transform(x_test)  \n",
    "\n",
    "#Fit K-Nearest Neighbor to the training set model 3\n",
    "classifier= KNeighborsClassifier(n_neighbors=5, metric='minkowski', p=2 )  \n",
    "classifier.fit(x_train, y_train)  \n",
    "\n",
    "#Predict the test set results model 3\n",
    "y_pred_test= classifier.predict(x_test)  \n",
    "print('Model 3 accuracy (K-Nearest Neighbor): {0:0.4f}'. format(accuracy_score(y_test, y_pred_test)))"
   ]
  },
  {
   "cell_type": "code",
   "execution_count": null,
   "id": "6edd0f35",
   "metadata": {},
   "outputs": [],
   "source": []
  }
 ],
 "metadata": {
  "kernelspec": {
   "display_name": "Python 3 (ipykernel)",
   "language": "python",
   "name": "python3"
  },
  "language_info": {
   "codemirror_mode": {
    "name": "ipython",
    "version": 3
   },
   "file_extension": ".py",
   "mimetype": "text/x-python",
   "name": "python",
   "nbconvert_exporter": "python",
   "pygments_lexer": "ipython3",
   "version": "3.9.12"
  }
 },
 "nbformat": 4,
 "nbformat_minor": 5
}
