{
 "cells": [
  {
   "cell_type": "code",
   "execution_count": 19,
   "id": "5680d758",
   "metadata": {},
   "outputs": [],
   "source": [
    "import numpy as np\n",
    "import pandas as pd\n",
    "from sklearn.preprocessing import LabelEncoder\n",
    "from sklearn.model_selection import train_test_split\n",
    "from sklearn.metrics import accuracy_score\n",
    "from joblib import Parallel, delayed\n",
    "import joblib"
   ]
  },
  {
   "cell_type": "code",
   "execution_count": 20,
   "id": "fd4c4a85",
   "metadata": {},
   "outputs": [],
   "source": [
    "df = pd.read_csv(\"../weatherAUS.csv\")"
   ]
  },
  {
   "cell_type": "code",
   "execution_count": 21,
   "id": "c49e0781",
   "metadata": {},
   "outputs": [],
   "source": [
    "#Remove Rows where required columns are null\n",
    "df1 = df[df['Location'].notna() & df['MinTemp'].notna() & df['MaxTemp'].notna()]\n",
    "\n",
    "#Remove columns\n",
    "df1 = df1.drop(['Date','RainTomorrow'], axis=1)"
   ]
  },
  {
   "cell_type": "code",
   "execution_count": 22,
   "id": "b1a736f6",
   "metadata": {},
   "outputs": [
    {
     "name": "stderr",
     "output_type": "stream",
     "text": [
      "C:\\Users\\HP\\AppData\\Local\\Temp\\ipykernel_32\\722378841.py:4: FutureWarning: Dropping of nuisance columns in DataFrame reductions (with 'numeric_only=None') is deprecated; in a future version this will raise TypeError.  Select only valid columns before calling the reduction.\n",
      "  df1[mean_col] = df1[mean_col].fillna(df1.mean())\n"
     ]
    }
   ],
   "source": [
    "#Replace with mean values for numerical values\n",
    "mean_col = ['Rainfall','Evaporation','Sunshine','WindGustSpeed','WindSpeed9am','WindSpeed3pm','Humidity9am','Humidity3pm','Pressure9am','Pressure3pm','Cloud9am','Cloud3pm','Temp9am','Temp3pm']\n",
    "df1[mean_col] = df1[mean_col].fillna(df1.groupby('Location')[mean_col].mean()[mean_col])\n",
    "df1[mean_col] = df1[mean_col].fillna(df1.mean())\n",
    "\n",
    "#Replace with mode values for categorical values\n",
    "mode_col = ['WindGustDir','WindDir9am','WindDir3pm','RainToday']\n",
    "df1[mode_col] = df1[mode_col].fillna(df1.mode())"
   ]
  },
  {
   "cell_type": "code",
   "execution_count": 23,
   "id": "d9b1028f",
   "metadata": {},
   "outputs": [],
   "source": [
    "#Convert label values into numerical values\n",
    "le = LabelEncoder()\n",
    "df1['Location'] = le.fit_transform(df1['Location'])\n",
    "mapping_Location = dict(zip(le.classes_, range(1, len(le.classes_)+1)))\n",
    "df1['WindGustDir'] = le.fit_transform(df1['WindGustDir'])\n",
    "mapping_WindDir = dict(zip(le.classes_, range(1, len(le.classes_)+1)))\n",
    "df1['WindDir9am'] = le.fit_transform(df1['WindDir9am'])\n",
    "df1['WindDir3pm'] = le.fit_transform(df1['WindDir3pm'])\n",
    "df1['RainToday'] = le.fit_transform(df1['RainToday'])\n",
    "mapping_Rain = dict(zip(le.classes_, range(1, len(le.classes_)+1)))"
   ]
  },
  {
   "cell_type": "code",
   "execution_count": 24,
   "id": "20a07124",
   "metadata": {},
   "outputs": [
    {
     "ename": "KeyError",
     "evalue": "('MinTemp', 'MaxTemp')",
     "output_type": "error",
     "traceback": [
      "\u001b[1;31m---------------------------------------------------------------------------\u001b[0m",
      "\u001b[1;31mKeyError\u001b[0m                                  Traceback (most recent call last)",
      "File \u001b[1;32mH:\\Software\\Anaconda\\lib\\site-packages\\pandas\\core\\indexes\\base.py:3621\u001b[0m, in \u001b[0;36mIndex.get_loc\u001b[1;34m(self, key, method, tolerance)\u001b[0m\n\u001b[0;32m   3620\u001b[0m \u001b[38;5;28;01mtry\u001b[39;00m:\n\u001b[1;32m-> 3621\u001b[0m     \u001b[38;5;28;01mreturn\u001b[39;00m \u001b[38;5;28;43mself\u001b[39;49m\u001b[38;5;241;43m.\u001b[39;49m\u001b[43m_engine\u001b[49m\u001b[38;5;241;43m.\u001b[39;49m\u001b[43mget_loc\u001b[49m\u001b[43m(\u001b[49m\u001b[43mcasted_key\u001b[49m\u001b[43m)\u001b[49m\n\u001b[0;32m   3622\u001b[0m \u001b[38;5;28;01mexcept\u001b[39;00m \u001b[38;5;167;01mKeyError\u001b[39;00m \u001b[38;5;28;01mas\u001b[39;00m err:\n",
      "File \u001b[1;32mH:\\Software\\Anaconda\\lib\\site-packages\\pandas\\_libs\\index.pyx:136\u001b[0m, in \u001b[0;36mpandas._libs.index.IndexEngine.get_loc\u001b[1;34m()\u001b[0m\n",
      "File \u001b[1;32mH:\\Software\\Anaconda\\lib\\site-packages\\pandas\\_libs\\index.pyx:163\u001b[0m, in \u001b[0;36mpandas._libs.index.IndexEngine.get_loc\u001b[1;34m()\u001b[0m\n",
      "File \u001b[1;32mpandas\\_libs\\hashtable_class_helper.pxi:5198\u001b[0m, in \u001b[0;36mpandas._libs.hashtable.PyObjectHashTable.get_item\u001b[1;34m()\u001b[0m\n",
      "File \u001b[1;32mpandas\\_libs\\hashtable_class_helper.pxi:5206\u001b[0m, in \u001b[0;36mpandas._libs.hashtable.PyObjectHashTable.get_item\u001b[1;34m()\u001b[0m\n",
      "\u001b[1;31mKeyError\u001b[0m: ('MinTemp', 'MaxTemp')",
      "\nThe above exception was the direct cause of the following exception:\n",
      "\u001b[1;31mKeyError\u001b[0m                                  Traceback (most recent call last)",
      "Input \u001b[1;32mIn [24]\u001b[0m, in \u001b[0;36m<cell line: 3>\u001b[1;34m()\u001b[0m\n\u001b[0;32m      1\u001b[0m \u001b[38;5;66;03m#Define x,y variables\u001b[39;00m\n\u001b[0;32m      2\u001b[0m x \u001b[38;5;241m=\u001b[39m df1\u001b[38;5;241m.\u001b[39mdrop([\u001b[38;5;124m'\u001b[39m\u001b[38;5;124mMinTemp\u001b[39m\u001b[38;5;124m'\u001b[39m,\u001b[38;5;124m'\u001b[39m\u001b[38;5;124mMaxTemp\u001b[39m\u001b[38;5;124m'\u001b[39m], axis\u001b[38;5;241m=\u001b[39m\u001b[38;5;241m1\u001b[39m)\n\u001b[1;32m----> 3\u001b[0m y \u001b[38;5;241m=\u001b[39m \u001b[43mdf1\u001b[49m\u001b[43m[\u001b[49m\u001b[38;5;124;43m'\u001b[39;49m\u001b[38;5;124;43mMinTemp\u001b[39;49m\u001b[38;5;124;43m'\u001b[39;49m\u001b[43m,\u001b[49m\u001b[38;5;124;43m'\u001b[39;49m\u001b[38;5;124;43mMaxTemp\u001b[39;49m\u001b[38;5;124;43m'\u001b[39;49m\u001b[43m]\u001b[49m\n",
      "File \u001b[1;32mH:\\Software\\Anaconda\\lib\\site-packages\\pandas\\core\\frame.py:3505\u001b[0m, in \u001b[0;36mDataFrame.__getitem__\u001b[1;34m(self, key)\u001b[0m\n\u001b[0;32m   3503\u001b[0m \u001b[38;5;28;01mif\u001b[39;00m \u001b[38;5;28mself\u001b[39m\u001b[38;5;241m.\u001b[39mcolumns\u001b[38;5;241m.\u001b[39mnlevels \u001b[38;5;241m>\u001b[39m \u001b[38;5;241m1\u001b[39m:\n\u001b[0;32m   3504\u001b[0m     \u001b[38;5;28;01mreturn\u001b[39;00m \u001b[38;5;28mself\u001b[39m\u001b[38;5;241m.\u001b[39m_getitem_multilevel(key)\n\u001b[1;32m-> 3505\u001b[0m indexer \u001b[38;5;241m=\u001b[39m \u001b[38;5;28;43mself\u001b[39;49m\u001b[38;5;241;43m.\u001b[39;49m\u001b[43mcolumns\u001b[49m\u001b[38;5;241;43m.\u001b[39;49m\u001b[43mget_loc\u001b[49m\u001b[43m(\u001b[49m\u001b[43mkey\u001b[49m\u001b[43m)\u001b[49m\n\u001b[0;32m   3506\u001b[0m \u001b[38;5;28;01mif\u001b[39;00m is_integer(indexer):\n\u001b[0;32m   3507\u001b[0m     indexer \u001b[38;5;241m=\u001b[39m [indexer]\n",
      "File \u001b[1;32mH:\\Software\\Anaconda\\lib\\site-packages\\pandas\\core\\indexes\\base.py:3623\u001b[0m, in \u001b[0;36mIndex.get_loc\u001b[1;34m(self, key, method, tolerance)\u001b[0m\n\u001b[0;32m   3621\u001b[0m     \u001b[38;5;28;01mreturn\u001b[39;00m \u001b[38;5;28mself\u001b[39m\u001b[38;5;241m.\u001b[39m_engine\u001b[38;5;241m.\u001b[39mget_loc(casted_key)\n\u001b[0;32m   3622\u001b[0m \u001b[38;5;28;01mexcept\u001b[39;00m \u001b[38;5;167;01mKeyError\u001b[39;00m \u001b[38;5;28;01mas\u001b[39;00m err:\n\u001b[1;32m-> 3623\u001b[0m     \u001b[38;5;28;01mraise\u001b[39;00m \u001b[38;5;167;01mKeyError\u001b[39;00m(key) \u001b[38;5;28;01mfrom\u001b[39;00m \u001b[38;5;21;01merr\u001b[39;00m\n\u001b[0;32m   3624\u001b[0m \u001b[38;5;28;01mexcept\u001b[39;00m \u001b[38;5;167;01mTypeError\u001b[39;00m:\n\u001b[0;32m   3625\u001b[0m     \u001b[38;5;66;03m# If we have a listlike key, _check_indexing_error will raise\u001b[39;00m\n\u001b[0;32m   3626\u001b[0m     \u001b[38;5;66;03m#  InvalidIndexError. Otherwise we fall through and re-raise\u001b[39;00m\n\u001b[0;32m   3627\u001b[0m     \u001b[38;5;66;03m#  the TypeError.\u001b[39;00m\n\u001b[0;32m   3628\u001b[0m     \u001b[38;5;28mself\u001b[39m\u001b[38;5;241m.\u001b[39m_check_indexing_error(key)\n",
      "\u001b[1;31mKeyError\u001b[0m: ('MinTemp', 'MaxTemp')"
     ]
    }
   ],
   "source": [
    "#Define x,y variables\n",
    "x = df1.drop(['MinTemp','MaxTemp'], axis=1)\n",
    "y = df1[['MinTemp','MaxTemp']]"
   ]
  },
  {
   "cell_type": "code",
   "execution_count": null,
   "id": "e1c5ae42",
   "metadata": {},
   "outputs": [],
   "source": [
    "#Divide the dataset for training and testing\n",
    "x_train, x_test, y_train, y_test=train_test_split(x, y, test_size=0.2)"
   ]
  },
  {
   "cell_type": "code",
   "execution_count": null,
   "id": "e40ad854",
   "metadata": {},
   "outputs": [],
   "source": [
    "#Linear Regression\n",
    "from sklearn.linear_model import LinearRegression  \n",
    "\n",
    "#Linear regression to the training set model 1\n",
    "linreg = LinearRegression()  \n",
    "linreg.fit(x_train, y_train)  \n",
    "\n",
    "#Predict the test set results model 1\n",
    "y_pred_test = linreg.predict(x_test)  \n",
    "x_pred_test = linreg.predict(x_train)  \n",
    "print('Train Score: {0:0.8f} '.format(linreg.score(x_train, y_train))) \n",
    "print('Test Score:  {0:0.8f} '.format(linreg.score(x_test, y_test)))  "
   ]
  },
  {
   "cell_type": "code",
   "execution_count": null,
   "id": "781ef500",
   "metadata": {},
   "outputs": [],
   "source": [
    "#Ridge Regression\n",
    "from sklearn.linear_model import Ridge\n",
    "\n",
    "#Ridge regression to the training set model 1\n",
    "ridreg = Ridge(alpha=0.05, normalize=True)\n",
    "#ridreg = Ridge()  \n",
    "ridreg.fit(x_train, y_train)  \n",
    "\n",
    "#Predict the test set results model 1\n",
    "y_pred_test = ridreg.predict(x_test)  \n",
    "x_pred_test = ridreg.predict(x_train)  \n",
    "print('Train Score: {0:0.8f} '.format(ridreg.score(x_train, y_train))) \n",
    "print('Test Score:  {0:0.8f} '.format(ridreg.score(x_test, y_test)))  "
   ]
  },
  {
   "cell_type": "code",
   "execution_count": null,
   "id": "5c83a5ff",
   "metadata": {},
   "outputs": [],
   "source": [
    "#Elastic Net Regression\n",
    "from sklearn.linear_model import ElasticNet\n",
    "\n",
    "#Elastic Net regression to the training set model 1\n",
    "enreg = ElasticNet(alpha=1, l1_ratio=0.5, normalize=False)\n",
    "enreg.fit(x_train, y_train)  \n",
    "\n",
    "#Predict the test set results model 1\n",
    "y_pred_test = enreg.predict(x_test)  \n",
    "x_pred_test = enreg.predict(x_train)  \n",
    "print('Train Score: {0:0.8f} '.format(enreg.score(x_train, y_train))) \n",
    "print('Test Score:  {0:0.8f} '.format(enreg.score(x_test, y_test)))  "
   ]
  },
  {
   "cell_type": "code",
   "execution_count": null,
   "id": "78f8c99c",
   "metadata": {},
   "outputs": [],
   "source": [
    "#Desision Tree Regression\n",
    "from sklearn.tree import DecisionTreeRegressor \n",
    "\n",
    "#Desision Tree regression to the training set model 1\n",
    "dtreg = DecisionTreeRegressor(random_state = 0) \n",
    "dtreg.fit(x_train, y_train)  \n",
    "\n",
    "#Predict the test set results model 1\n",
    "y_pred_test = dtreg.predict(x_test)  \n",
    "x_pred_test = dtreg.predict(x_train)  \n",
    "print('Train Score: {0:0.8f} '.format(dtreg.score(x_train, y_train))) \n",
    "print('Test Score:  {0:0.8f} '.format(dtreg.score(x_test, y_test)))  \n",
    "result_min_temp = format(dtreg.score(x_test, y_test))"
   ]
  },
  {
   "cell_type": "code",
   "execution_count": null,
   "id": "1b729733",
   "metadata": {},
   "outputs": [],
   "source": [
    "#Save the trained model\n",
    "filename = \"MinMaxTemp_model.pkl\"\n",
    "joblib.dump(linreg, filename)"
   ]
  }
 ],
 "metadata": {
  "kernelspec": {
   "display_name": "Python 3 (ipykernel)",
   "language": "python",
   "name": "python3"
  },
  "language_info": {
   "codemirror_mode": {
    "name": "ipython",
    "version": 3
   },
   "file_extension": ".py",
   "mimetype": "text/x-python",
   "name": "python",
   "nbconvert_exporter": "python",
   "pygments_lexer": "ipython3",
   "version": "3.9.12"
  }
 },
 "nbformat": 4,
 "nbformat_minor": 5
}
