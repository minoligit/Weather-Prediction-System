{
 "cells": [
  {
   "cell_type": "code",
   "execution_count": 25,
   "id": "1cca74c2",
   "metadata": {},
   "outputs": [],
   "source": [
    "import numpy as np\n",
    "import pandas as pd\n",
    "from sklearn.preprocessing import LabelEncoder\n",
    "from sklearn.model_selection import train_test_split\n",
    "from sklearn.metrics import accuracy_score\n",
    "from joblib import Parallel, delayed\n",
    "import joblib"
   ]
  },
  {
   "cell_type": "code",
   "execution_count": 26,
   "id": "708dfe79",
   "metadata": {},
   "outputs": [],
   "source": [
    "df = pd.read_csv(\"../weatherAUS.csv\")"
   ]
  },
  {
   "cell_type": "code",
   "execution_count": 27,
   "id": "e1b56152",
   "metadata": {},
   "outputs": [],
   "source": [
    "#Remove Rows where required columns are null\n",
    "df1 = df[df['Location'].notna() & df['MinTemp'].notna() & df['MaxTemp'].notna()]\n",
    "\n",
    "#Remove columns\n",
    "df1 = df1.drop(['Date','RainTomorrow'], axis=1)"
   ]
  },
  {
   "cell_type": "code",
   "execution_count": 28,
   "id": "65830246",
   "metadata": {},
   "outputs": [
    {
     "name": "stderr",
     "output_type": "stream",
     "text": [
      "C:\\Users\\HP\\AppData\\Local\\Temp\\ipykernel_32\\722378841.py:4: FutureWarning: Dropping of nuisance columns in DataFrame reductions (with 'numeric_only=None') is deprecated; in a future version this will raise TypeError.  Select only valid columns before calling the reduction.\n",
      "  df1[mean_col] = df1[mean_col].fillna(df1.mean())\n"
     ]
    }
   ],
   "source": [
    "#Replace with mean values for numerical values\n",
    "mean_col = ['Rainfall','Evaporation','Sunshine','WindGustSpeed','WindSpeed9am','WindSpeed3pm','Humidity9am','Humidity3pm','Pressure9am','Pressure3pm','Cloud9am','Cloud3pm','Temp9am','Temp3pm']\n",
    "df1[mean_col] = df1[mean_col].fillna(df1.groupby('Location')[mean_col].mean()[mean_col])\n",
    "df1[mean_col] = df1[mean_col].fillna(df1.mean())\n",
    "\n",
    "#Replace with mode values for categorical values\n",
    "mode_col = ['WindGustDir','WindDir9am','WindDir3pm','RainToday']\n",
    "df1[mode_col] = df1[mode_col].fillna(df1.mode())"
   ]
  },
  {
   "cell_type": "code",
   "execution_count": 29,
   "id": "2548c162",
   "metadata": {},
   "outputs": [],
   "source": [
    "#Convert label values into numerical values\n",
    "le = LabelEncoder()\n",
    "df1['Location'] = le.fit_transform(df1['Location'])\n",
    "mapping_Location = dict(zip(le.classes_, range(1, len(le.classes_)+1)))\n",
    "df1['WindGustDir'] = le.fit_transform(df1['WindGustDir'])\n",
    "mapping_WindDir = dict(zip(le.classes_, range(1, len(le.classes_)+1)))\n",
    "df1['WindDir9am'] = le.fit_transform(df1['WindDir9am'])\n",
    "df1['WindDir3pm'] = le.fit_transform(df1['WindDir3pm'])\n",
    "df1['RainToday'] = le.fit_transform(df1['RainToday'])\n",
    "mapping_Rain = dict(zip(le.classes_, range(1, len(le.classes_)+1)))"
   ]
  },
  {
   "cell_type": "code",
   "execution_count": 30,
   "id": "ebe764c0",
   "metadata": {},
   "outputs": [],
   "source": [
    "#Define x,y variables\n",
    "x = df1.drop(['MinTemp','MaxTemp'], axis=1)\n",
    "y = df1[['MinTemp','MaxTemp']]"
   ]
  },
  {
   "cell_type": "code",
   "execution_count": 31,
   "id": "87391af3",
   "metadata": {},
   "outputs": [],
   "source": [
    "#Divide the dataset for training and testing\n",
    "x_train, x_test, y_train, y_test=train_test_split(x, y, test_size=0.2)"
   ]
  },
  {
   "cell_type": "code",
   "execution_count": 32,
   "id": "285480f0",
   "metadata": {},
   "outputs": [
    {
     "name": "stdout",
     "output_type": "stream",
     "text": [
      "Train Score: 0.92026785 \n",
      "Test Score:  0.92066822 \n"
     ]
    }
   ],
   "source": [
    "#Linear Regression\n",
    "from sklearn.linear_model import LinearRegression  \n",
    "\n",
    "#Linear regression to the training set model 1\n",
    "linreg = LinearRegression()  \n",
    "linreg.fit(x_train, y_train)  \n",
    "\n",
    "#Predict the test set results model 1\n",
    "y_pred_test = linreg.predict(x_test)  \n",
    "x_pred_test = linreg.predict(x_train)  \n",
    "print('Train Score: {0:0.8f} '.format(linreg.score(x_train, y_train))) \n",
    "print('Test Score:  {0:0.8f} '.format(linreg.score(x_test, y_test)))  "
   ]
  },
  {
   "cell_type": "code",
   "execution_count": 36,
   "id": "c885904a",
   "metadata": {},
   "outputs": [
    {
     "data": {
      "text/plain": [
       "['MinMaxTemp_model.pkl']"
      ]
     },
     "execution_count": 36,
     "metadata": {},
     "output_type": "execute_result"
    }
   ],
   "source": [
    "#Save the trained model\n",
    "filename = \"MinMaxTemp_model.pkl\"\n",
    "joblib.dump(linreg, filename)"
   ]
  }
 ],
 "metadata": {
  "kernelspec": {
   "display_name": "Python 3 (ipykernel)",
   "language": "python",
   "name": "python3"
  },
  "language_info": {
   "codemirror_mode": {
    "name": "ipython",
    "version": 3
   },
   "file_extension": ".py",
   "mimetype": "text/x-python",
   "name": "python",
   "nbconvert_exporter": "python",
   "pygments_lexer": "ipython3",
   "version": "3.9.12"
  }
 },
 "nbformat": 4,
 "nbformat_minor": 5
}
