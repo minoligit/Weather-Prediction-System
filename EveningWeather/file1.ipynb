{
 "cells": [
  {
   "cell_type": "code",
   "execution_count": 13,
   "id": "3884817b",
   "metadata": {},
   "outputs": [],
   "source": [
    "import numpy as np\n",
    "import pandas as pd\n",
    "from sklearn.preprocessing import LabelEncoder\n",
    "from sklearn.model_selection import train_test_split\n",
    "from sklearn.metrics import accuracy_score"
   ]
  },
  {
   "cell_type": "code",
   "execution_count": 14,
   "id": "0dbee718",
   "metadata": {},
   "outputs": [],
   "source": [
    "df = pd.read_csv(\"../weatherAUS.csv\")"
   ]
  },
  {
   "cell_type": "code",
   "execution_count": 15,
   "id": "8afaee9c",
   "metadata": {},
   "outputs": [],
   "source": [
    "#Remove Rows where required columns are null\n",
    "df1 = df[df['Location'].notna()&df['WindSpeed3pm'].notna()&df['Humidity3pm'].notna()&df['Pressure3pm'].notna()&df['Cloud3pm'].notna()&df['Temp3pm']]\n",
    "\n",
    "#Remove columns\n",
    "df1 = df1.drop(['Date','MinTemp','MaxTemp','RainTomorrow'], axis=1)"
   ]
  },
  {
   "cell_type": "code",
   "execution_count": 16,
   "id": "cb16f01f",
   "metadata": {},
   "outputs": [
    {
     "name": "stderr",
     "output_type": "stream",
     "text": [
      "C:\\Users\\HP\\AppData\\Local\\Temp\\ipykernel_1444\\4114251890.py:3: FutureWarning: Dropping of nuisance columns in DataFrame reductions (with 'numeric_only=None') is deprecated; in a future version this will raise TypeError.  Select only valid columns before calling the reduction.\n",
      "  df1[mean_col] = df1[mean_col].fillna(df1.mean())\n"
     ]
    }
   ],
   "source": [
    "#Replace with mean values for numerical values\n",
    "mean_col = ['Rainfall','Evaporation','Sunshine','WindGustSpeed','WindSpeed9am','Humidity9am','Pressure9am','Cloud9am','Temp9am']\n",
    "df1[mean_col] = df1[mean_col].fillna(df1.mean())\n",
    "\n",
    "#Replace with mode values for categorical values\n",
    "mode_col = ['WindGustDir','WindDir9am','WindDir3pm','RainToday']\n",
    "df1[mode_col] = df1[mode_col].fillna(df1.mode())"
   ]
  },
  {
   "cell_type": "code",
   "execution_count": 17,
   "id": "e14c3c0f",
   "metadata": {},
   "outputs": [],
   "source": [
    "#Convert label values into numerical values\n",
    "le = LabelEncoder()\n",
    "df1['Location'] = le.fit_transform(df1['Location'])\n",
    "mapping_Location = dict(zip(le.classes_, range(1, len(le.classes_)+1)))\n",
    "df1['WindGustDir'] = le.fit_transform(df1['WindGustDir'])\n",
    "mapping_WindDir = dict(zip(le.classes_, range(1, len(le.classes_)+1)))\n",
    "df1['WindDir9am'] = le.fit_transform(df1['WindDir9am'])\n",
    "df1['WindDir3pm'] = le.fit_transform(df1['WindDir3pm'])\n",
    "df1['RainToday'] = le.fit_transform(df1['RainToday'])\n",
    "mapping_Rain = dict(zip(le.classes_, range(1, len(le.classes_)+1)))"
   ]
  },
  {
   "cell_type": "code",
   "execution_count": 18,
   "id": "76e82f75",
   "metadata": {},
   "outputs": [],
   "source": [
    "#Define x,y variables\n",
    "x = df1.drop(['WindDir3pm','WindSpeed3pm','Humidity3pm','Pressure3pm','Cloud3pm','Temp3pm'], axis=1)\n",
    "y = df1[['WindDir3pm','WindSpeed3pm','Humidity3pm','Pressure3pm','Cloud3pm','Temp3pm']]"
   ]
  },
  {
   "cell_type": "code",
   "execution_count": 19,
   "id": "37b73d54",
   "metadata": {},
   "outputs": [],
   "source": [
    "#Divide the dataset for training and testing\n",
    "x_train, x_test, y_train, y_test=train_test_split(x, y, test_size=0.2)"
   ]
  },
  {
   "cell_type": "code",
   "execution_count": 20,
   "id": "b9eef354",
   "metadata": {},
   "outputs": [
    {
     "name": "stdout",
     "output_type": "stream",
     "text": [
      "Train Score: 0.61120797 \n",
      "Test Score:  0.60889309 \n"
     ]
    }
   ],
   "source": [
    "#Linear Regression\n",
    "from sklearn.linear_model import LinearRegression  \n",
    "\n",
    "#Linear regression to the training set model 1\n",
    "linreg = LinearRegression()  \n",
    "linreg.fit(x_train, y_train)  \n",
    "\n",
    "#Predict the test set results model 1\n",
    "y_pred_test = linreg.predict(x_test)  \n",
    "x_pred_test = linreg.predict(x_train)  \n",
    "print('Train Score: {0:0.8f} '.format(linreg.score(x_train, y_train))) \n",
    "print('Test Score:  {0:0.8f} '.format(linreg.score(x_test, y_test)))  "
   ]
  },
  {
   "cell_type": "code",
   "execution_count": 21,
   "id": "01130632",
   "metadata": {},
   "outputs": [
    {
     "name": "stdout",
     "output_type": "stream",
     "text": [
      "Train Score: 0.60964360 \n",
      "Test Score:  0.60736502 \n"
     ]
    },
    {
     "name": "stderr",
     "output_type": "stream",
     "text": [
      "H:\\Software\\Anaconda\\lib\\site-packages\\sklearn\\linear_model\\_base.py:141: FutureWarning: 'normalize' was deprecated in version 1.0 and will be removed in 1.2.\n",
      "If you wish to scale the data, use Pipeline with a StandardScaler in a preprocessing stage. To reproduce the previous behavior:\n",
      "\n",
      "from sklearn.pipeline import make_pipeline\n",
      "\n",
      "model = make_pipeline(StandardScaler(with_mean=False), Ridge())\n",
      "\n",
      "If you wish to pass a sample_weight parameter, you need to pass it as a fit parameter to each step of the pipeline as follows:\n",
      "\n",
      "kwargs = {s[0] + '__sample_weight': sample_weight for s in model.steps}\n",
      "model.fit(X, y, **kwargs)\n",
      "\n",
      "Set parameter alpha to: original_alpha * n_samples. \n",
      "  warnings.warn(\n"
     ]
    }
   ],
   "source": [
    "#Ridge Regression\n",
    "from sklearn.linear_model import Ridge\n",
    "\n",
    "#Ridge regression to the training set model 1\n",
    "ridreg = Ridge(alpha=0.05, normalize=True)\n",
    "#ridreg = Ridge()  \n",
    "ridreg.fit(x_train, y_train)  \n",
    "\n",
    "#Predict the test set results model 1\n",
    "y_pred_test = ridreg.predict(x_test)  \n",
    "x_pred_test = ridreg.predict(x_train)  \n",
    "print('Train Score: {0:0.8f} '.format(ridreg.score(x_train, y_train))) \n",
    "print('Test Score:  {0:0.8f} '.format(ridreg.score(x_test, y_test)))  "
   ]
  },
  {
   "cell_type": "code",
   "execution_count": 22,
   "id": "00baf8c5",
   "metadata": {},
   "outputs": [
    {
     "name": "stderr",
     "output_type": "stream",
     "text": [
      "H:\\Software\\Anaconda\\lib\\site-packages\\sklearn\\linear_model\\_base.py:148: FutureWarning: 'normalize' was deprecated in version 1.0 and will be removed in 1.2. Please leave the normalize parameter to its default value to silence this warning. The default behavior of this estimator is to not do any normalization. If normalization is needed please use sklearn.preprocessing.StandardScaler instead.\n",
      "  warnings.warn(\n"
     ]
    },
    {
     "name": "stdout",
     "output_type": "stream",
     "text": [
      "Train Score: 0.60682132 \n",
      "Test Score:  0.60439741 \n"
     ]
    }
   ],
   "source": [
    "#Elastic Net Regression\n",
    "from sklearn.linear_model import ElasticNet\n",
    "\n",
    "#Elastic Net regression to the training set model 1\n",
    "enreg = ElasticNet(alpha=1, l1_ratio=0.5, normalize=False)\n",
    "enreg.fit(x_train, y_train)  \n",
    "\n",
    "#Predict the test set results model 1\n",
    "y_pred_test = enreg.predict(x_test)  \n",
    "x_pred_test = enreg.predict(x_train)  \n",
    "print('Train Score: {0:0.8f} '.format(enreg.score(x_train, y_train))) \n",
    "print('Test Score:  {0:0.8f} '.format(enreg.score(x_test, y_test)))"
   ]
  },
  {
   "cell_type": "code",
   "execution_count": 23,
   "id": "c5ad6d82",
   "metadata": {},
   "outputs": [],
   "source": [
    "# x_input = []\n",
    "# for i in range(len(x.columns)):\n",
    "#     inp = input(\"Enter {}: \".format(x.columns[i]))\n",
    "#     if x.columns[i] == 'Location':\n",
    "#         inp = float(mapping_Location[str(inp)])\n",
    "#     elif (x.columns[i] == 'WindGustDir' or x.columns[i] == 'WindDir9am'):\n",
    "#         inp = float(mapping_WindDir[str(inp)])\n",
    "#     elif x.columns[i] == 'RainToday':\n",
    "#         inp = float(mapping_Rain[str(inp)])\n",
    "#     else:\n",
    "#         inp = float(inp)\n",
    "#     x_input.append(inp)"
   ]
  },
  {
   "cell_type": "code",
   "execution_count": 24,
   "id": "bcb46052",
   "metadata": {},
   "outputs": [],
   "source": [
    "# x_input = np.array(x_input)\n",
    "# predicted_val_linreg = linreg.predict(np.array([x_input]))\n",
    "# print(predicted_val_linreg)"
   ]
  },
  {
   "cell_type": "code",
   "execution_count": null,
   "id": "4fe4a573",
   "metadata": {},
   "outputs": [],
   "source": []
  }
 ],
 "metadata": {
  "kernelspec": {
   "display_name": "venv",
   "language": "python",
   "name": "venv"
  },
  "language_info": {
   "codemirror_mode": {
    "name": "ipython",
    "version": 3
   },
   "file_extension": ".py",
   "mimetype": "text/x-python",
   "name": "python",
   "nbconvert_exporter": "python",
   "pygments_lexer": "ipython3",
   "version": "3.9.12"
  }
 },
 "nbformat": 4,
 "nbformat_minor": 5
}
