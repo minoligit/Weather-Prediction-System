{
 "cells": [
  {
   "cell_type": "code",
   "execution_count": 47,
   "id": "3884817b",
   "metadata": {},
   "outputs": [],
   "source": [
    "import numpy as np\n",
    "import pandas as pd\n",
    "from sklearn.preprocessing import LabelEncoder\n",
    "from sklearn.model_selection import train_test_split\n",
    "from sklearn.metrics import accuracy_score"
   ]
  },
  {
   "cell_type": "code",
   "execution_count": 48,
   "id": "0cdbafe6",
   "metadata": {},
   "outputs": [],
   "source": [
    "df = pd.read_csv(\"../weatherAUS.csv\")"
   ]
  },
  {
   "cell_type": "code",
   "execution_count": 49,
   "id": "730fa769",
   "metadata": {},
   "outputs": [],
   "source": [
    "#Remove Rows where required columns are null\n",
    "df1 = df[df['Location'].notna()&df['WindSpeed3pm'].notna()&df['Humidity3pm'].notna()&df['Pressure3pm'].notna()&df['Cloud3pm'].notna()&df['Temp3pm']]\n",
    "\n",
    "#Remove columns\n",
    "df1 = df1.drop(['Date','MinTemp','MaxTemp','RainTomorrow'], axis=1)"
   ]
  },
  {
   "cell_type": "code",
   "execution_count": 50,
   "id": "72b65a7a",
   "metadata": {},
   "outputs": [
    {
     "name": "stderr",
     "output_type": "stream",
     "text": [
      "C:\\Users\\HP\\AppData\\Local\\Temp\\ipykernel_13880\\4114251890.py:3: FutureWarning: Dropping of nuisance columns in DataFrame reductions (with 'numeric_only=None') is deprecated; in a future version this will raise TypeError.  Select only valid columns before calling the reduction.\n",
      "  df1[mean_col] = df1[mean_col].fillna(df1.mean())\n"
     ]
    }
   ],
   "source": [
    "#Replace with mean values for numerical values\n",
    "mean_col = ['Rainfall','Evaporation','Sunshine','WindGustSpeed','WindSpeed9am','Humidity9am','Pressure9am','Cloud9am','Temp9am']\n",
    "df1[mean_col] = df1[mean_col].fillna(df1.mean())\n",
    "\n",
    "#Replace with mode values for categorical values\n",
    "mode_col = ['WindGustDir','WindDir9am','WindDir3pm','RainToday']\n",
    "df1[mode_col] = df1[mode_col].fillna(df1.mode())"
   ]
  },
  {
   "cell_type": "code",
   "execution_count": 51,
   "id": "70536b83",
   "metadata": {},
   "outputs": [
    {
     "name": "stdout",
     "output_type": "stream",
     "text": [
      "{'E': 1, 'ENE': 2, 'ESE': 3, 'N': 4, 'NE': 5, 'NNE': 6, 'NNW': 7, 'NW': 8, 'S': 9, 'SE': 10, 'SSE': 11, 'SSW': 12, 'SW': 13, 'W': 14, 'WNW': 15, 'WSW': 16, nan: 17}\n"
     ]
    }
   ],
   "source": [
    "#Convert label values into numerical values\n",
    "le = LabelEncoder()\n",
    "df1['Location'] = le.fit_transform(df1['Location'])\n",
    "mapping_Location = dict(zip(le.classes_, range(1, len(le.classes_)+1)))\n",
    "df1['WindGustDir'] = le.fit_transform(df1['WindGustDir'])\n",
    "mapping_WindDir = dict(zip(le.classes_, range(1, len(le.classes_)+1)))\n",
    "print(mapping_WindDir)\n",
    "df1['WindDir9am'] = le.fit_transform(df1['WindDir9am'])\n",
    "df1['WindDir3pm'] = le.fit_transform(df1['WindDir3pm'])\n",
    "df1['RainToday'] = le.fit_transform(df1['RainToday'])\n",
    "mapping_Rain = dict(zip(le.classes_, range(1, len(le.classes_)+1)))"
   ]
  },
  {
   "cell_type": "code",
   "execution_count": 52,
   "id": "f86ae2d5",
   "metadata": {},
   "outputs": [],
   "source": [
    "#Define x,y variables\n",
    "x = df1.drop(['WindDir3pm','WindSpeed3pm','Humidity3pm','Pressure3pm','Cloud3pm','Temp3pm'], axis=1)\n",
    "y = df1[['WindDir3pm','WindSpeed3pm','Humidity3pm','Pressure3pm','Cloud3pm','Temp3pm']]"
   ]
  },
  {
   "cell_type": "code",
   "execution_count": 53,
   "id": "77d738b0",
   "metadata": {},
   "outputs": [],
   "source": [
    "#Divide the dataset for training and testing\n",
    "x_train, x_test, y_train, y_test=train_test_split(x, y, test_size=0.2)"
   ]
  },
  {
   "cell_type": "code",
   "execution_count": 54,
   "id": "96801e34",
   "metadata": {},
   "outputs": [
    {
     "name": "stdout",
     "output_type": "stream",
     "text": [
      "Train Score: 0.61075862 \n",
      "Test Score:  0.61063592 \n"
     ]
    }
   ],
   "source": [
    "#Linear Regression\n",
    "from sklearn.linear_model import LinearRegression  \n",
    "\n",
    "#Linear regression to the training set model 1\n",
    "linreg = LinearRegression()  \n",
    "linreg.fit(x_train, y_train)  \n",
    "\n",
    "#Predict the test set results model 1\n",
    "y_pred_test = linreg.predict(x_test)  \n",
    "x_pred_test = linreg.predict(x_train)  \n",
    "print('Train Score: {0:0.8f} '.format(linreg.score(x_train, y_train))) \n",
    "print('Test Score:  {0:0.8f} '.format(linreg.score(x_test, y_test)))  "
   ]
  },
  {
   "cell_type": "code",
   "execution_count": 55,
   "id": "f79fcd53",
   "metadata": {},
   "outputs": [
    {
     "name": "stdout",
     "output_type": "stream",
     "text": [
      "Train Score: 1.00000000 \n",
      "Test Score:  0.28314250 \n"
     ]
    }
   ],
   "source": [
    "#Elastic Net Regression\n",
    "from sklearn.linear_model import ElasticNet\n",
    "\n",
    "#Elastic Net regression to the training set model 1\n",
    "enreg = ElasticNet(alpha=1, l1_ratio=0.5, normalize=False)\n",
    "enreg.fit(x_train, y_train)  \n",
    "\n",
    "#Predict the test set results model 1\n",
    "y_pred_test = enreg.predict(x_test)  \n",
    "x_pred_test = enreg.predict(x_train)  \n",
    "print('Train Score: {0:0.8f} '.format(enreg.score(x_train, y_train))) \n",
    "print('Test Score:  {0:0.8f} '.format(enreg.score(x_test, y_test)))"
   ]
  },
  {
   "cell_type": "code",
   "execution_count": 40,
   "id": "8635f140",
   "metadata": {},
   "outputs": [
    {
     "name": "stdout",
     "output_type": "stream",
     "text": [
      "Enter Location: Uluru\n",
      "Enter Rainfall: 0.0\n",
      "Enter Evaporation: 5.50959\n",
      "Enter Sunshine: 7.628014\n",
      "Enter WindGustDir: E\n",
      "Enter WindGustSpeed: 37.000000\n",
      "Enter WindDir9am: E\n",
      "Enter WindSpeed9am: 19.0\n",
      "Enter Humidity9am: 59.0\n",
      "Enter Pressure9am: 1024.3\n",
      "Enter Cloud9am: 8.00\n",
      "Enter Temp9am: 13.9\n",
      "Enter RainToday: No\n"
     ]
    }
   ],
   "source": [
    "x_input = []\n",
    "for i in range(len(x.columns)):\n",
    "    inp = input(\"Enter {}: \".format(x.columns[i]))\n",
    "    if x.columns[i] == 'Location':\n",
    "        inp = float(mapping_Location[str(inp)])\n",
    "    elif (x.columns[i] == 'WindGustDir' or x.columns[i] == 'WindDir9am'):\n",
    "        inp = float(mapping_WindDir[str(inp)])\n",
    "    elif x.columns[i] == 'RainToday':\n",
    "        inp = float(mapping_Rain[str(inp)])\n",
    "    else:\n",
    "        inp = float(inp)\n",
    "    x_input.append(inp)"
   ]
  },
  {
   "cell_type": "code",
   "execution_count": 41,
   "id": "cbb208a5",
   "metadata": {},
   "outputs": [
    {
     "name": "stdout",
     "output_type": "stream",
     "text": [
      "[[   4.58202878   17.51722465   46.26003491 1021.7242546     5.35922513\n",
      "    18.93712096]]\n"
     ]
    },
    {
     "name": "stderr",
     "output_type": "stream",
     "text": [
      "H:\\Software\\Anaconda\\lib\\site-packages\\sklearn\\base.py:450: UserWarning: X does not have valid feature names, but LinearRegression was fitted with feature names\n",
      "  warnings.warn(\n"
     ]
    }
   ],
   "source": [
    "x_input = np.array(x_input)\n",
    "predicted_val_linreg = linreg.predict(np.array([x_input]))\n",
    "print(predicted_val_linreg)"
   ]
  },
  {
   "cell_type": "code",
   "execution_count": null,
   "id": "85fdd0e2",
   "metadata": {},
   "outputs": [],
   "source": []
  }
 ],
 "metadata": {
  "kernelspec": {
   "display_name": "Python 3 (ipykernel)",
   "language": "python",
   "name": "python3"
  },
  "language_info": {
   "codemirror_mode": {
    "name": "ipython",
    "version": 3
   },
   "file_extension": ".py",
   "mimetype": "text/x-python",
   "name": "python",
   "nbconvert_exporter": "python",
   "pygments_lexer": "ipython3",
   "version": "3.9.12"
  }
 },
 "nbformat": 4,
 "nbformat_minor": 5
}
