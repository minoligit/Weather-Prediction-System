{
 "cells": [
  {
   "cell_type": "code",
   "execution_count": null,
   "id": "b6a9917e",
   "metadata": {},
   "outputs": [],
   "source": [
    "import numpy as np\n",
    "import pandas as pd\n",
    "import matplotlib.pyplot as plt\n",
    "df = pd.read_csv(\"weatherAUS.csv\")\n",
    "print(df)"
   ]
  },
  {
   "cell_type": "code",
   "execution_count": null,
   "id": "661b1c57",
   "metadata": {
    "scrolled": false
   },
   "outputs": [],
   "source": [
    "def plot(x,y,ax,title,ylabel):\n",
    "    ax.set_title(title)\n",
    "    ax.set_ylabel(ylabel)\n",
    "    ax.plot(x,y)\n",
    "    ax.margins(x=0,y=0)\n",
    "      \n",
    "fig, ax = plt.subplots()\n",
    "plot(df.Date,df.MinTemp,ax,\"Graph\",\"Minimum Temperature\")"
   ]
  },
  {
   "cell_type": "code",
   "execution_count": null,
   "id": "42ef92ad",
   "metadata": {},
   "outputs": [],
   "source": [
    "#Data types of columns\n",
    "print(df1.dtypes)\n",
    "plt.plot(df[\"MinTemp\"],label='Minimum Temperature')"
   ]
  },
  {
   "cell_type": "code",
   "execution_count": null,
   "id": "28a66385",
   "metadata": {
    "scrolled": true
   },
   "outputs": [],
   "source": [
    "#extract independent variable - from 1st row 4th column except last column(dependent var)\n",
    "x= df.iloc[1:,4:-1].values  \n",
    "print(x)"
   ]
  },
  {
   "cell_type": "code",
   "execution_count": null,
   "id": "722cd945",
   "metadata": {},
   "outputs": [],
   "source": [
    "#extract dependent variable - all the rows with 1st column\n",
    "y= df.iloc[:,1].values \n",
    "print(y)"
   ]
  },
  {
   "cell_type": "code",
   "execution_count": null,
   "id": "ced86df8",
   "metadata": {},
   "outputs": [],
   "source": [
    "#Rows contain 'NA' for Rainfall column\n",
    "print(df.loc[df['Rainfall'] == 'NA'])"
   ]
  },
  {
   "cell_type": "code",
   "execution_count": null,
   "id": "351343fe",
   "metadata": {
    "scrolled": true
   },
   "outputs": [],
   "source": [
    "# print(df['MinTemp'])\n",
    "total = df['Date'].count()\n",
    "print(\"Null values percentage\")\n",
    "print(\"Date : \"+str(df['Date'].isna().sum()))\n",
    "print(\"Location: \"+str(df['Location'].isna().sum()))\n",
    "print(\"Min Temp : \"+str(df['MinTemp'].isna().sum()*100/total))\n",
    "print(\"Max Temp: \"+str(df['MaxTemp'].isna().sum()*100/total))\n",
    "print(\"Rainfall : \"+str(df['Rainfall'].isna().sum()*100/total))\n",
    "print(\"Evaporation: \"+str(df['Evaporation'].isna().sum()*100/total))\n",
    "print(\"Sunshine : \"+str(df['Sunshine'].isna().sum()*100/total))\n",
    "print(\"WindGustDir : \"+str(df['WindGustDir'].isna().sum()*100/total))\n",
    "print(\"WindGustSpeed : \"+str(df['WindGustSpeed'].isna().sum()*100/total))\n",
    "print(\"WindDir9am : \"+str(df['WindDir9am'].isna().sum()*100/total))\n",
    "print(\"WindDir3pm  : \"+str(df['WindDir3pm'].isna().sum()*100/total))\n",
    "print(\"WindSpeed9am : \"+str(df['WindSpeed9am'].isna().sum()*100/total))\n",
    "print(\"WindSpeed3pm : \"+str(df['WindSpeed3pm'].isna().sum()*100/total))\n",
    "print(\"Humidity9am : \"+str(df['Humidity9am'].isna().sum()*100/total))\n",
    "print(\"Humidity3pm : \"+str(df['Humidity3pm'].isna().sum()*100/total))\n",
    "print(\"Pressure9am  : \"+str(df['Pressure9am'].isna().sum()*100/total))\n",
    "print(\"Pressure3pm : \"+str(df['Pressure3pm'].isna().sum()*100/total))\n",
    "print(\"Cloud9am : \"+str(df['Cloud9am'].isna().sum()*100/total))\n",
    "print(\"Cloud3pm : \"+str(df['Cloud3pm'].isna().sum()*100/total))\n",
    "print(\"Temp9am : \"+str(df['Temp9am'].isna().sum()*100/total))\n",
    "print(\"Temp3pm : \"+str(df['Temp3pm'].isna().sum()*100/total))\n",
    "print(\"RainToday  : \"+str(df['RainToday'].isna().sum()*100/total))\n",
    "print(\"RainTomorrow : \"+str(df['RainTomorrow'].isna().sum()*100/total))"
   ]
  },
  {
   "cell_type": "code",
   "execution_count": null,
   "id": "39e635f0",
   "metadata": {
    "scrolled": true
   },
   "outputs": [],
   "source": [
    "# Remove Rows where required columns are null\n",
    "df1 = df[df['RainTomorrow'].notna() & df['RainToday'].notna() & df['Location'].notna()]\n",
    "\n",
    "# Remove Columns where null % >20%\n",
    "df1 = df1.drop(columns=['Evaporation','Sunshine','Cloud9am','Cloud3pm'])\n",
    "print(df1)"
   ]
  },
  {
   "cell_type": "code",
   "execution_count": null,
   "id": "76810b1a",
   "metadata": {},
   "outputs": [],
   "source": [
    "#Replacing numerical missing data \n",
    "#Replace with mean values where null% <5\n",
    "mean_col = ['MinTemp','MaxTemp','Rainfall','WindSpeed9am','WindSpeed3pm','Humidity9am','Humidity3pm','Temp9am','Temp3pm']\n",
    "df1[mean_col] = df1[mean_col].fillna(df1.mean().iloc[0])\n",
    "\n",
    "#Replacing with constant values where 5<null%<10 \n",
    "const_col = ['WindGustSpeed']\n",
    "const_val = ['']\n",
    "# df2[const_col] = df2[const_col].fillna()\n",
    "\n",
    "#Replacing string missing data \n",
    "#Replace with mode where null% <5\n",
    "# mode_col = ['WindDir3pm']\n",
    "# df2[mode_col] = df1[mode_col].fillna(df1.mode().iloc[0])\n",
    "\n",
    "#Replace with constant values where 5<null%<10 \n",
    "const_col = ['WindGustDir','WindDir9am']\n",
    "const_val = ['']\n",
    "# df2[const_col] = df2[const_col].fillna()\n",
    "\n",
    "print(df1)"
   ]
  },
  {
   "cell_type": "code",
   "execution_count": null,
   "id": "c1b9416d",
   "metadata": {},
   "outputs": [],
   "source": [
    "#Replacing string missing values with mode where null% <5\n",
    "mode_col = ['WindDir3pm']\n",
    "df1[mode_col] = df1[mode_col].fillna(df1.groupby('Location').transform('mode'))\n",
    "\n",
    "print(df2)"
   ]
  },
  {
   "cell_type": "code",
   "execution_count": null,
   "id": "a54334c6",
   "metadata": {},
   "outputs": [],
   "source": [
    "all_col = df1.columns\n",
    "location = df1['Location'].unique()\n",
    "mean_val = df1.groupby('Location').mean()\n",
    "#print(df1['WindDir3pm'].fillna(df1['WindDir3pm'].groupby('Location').mean()))\n",
    "print(mean_val['Rainfall'])"
   ]
  },
  {
   "cell_type": "code",
   "execution_count": null,
   "id": "664dc4d8",
   "metadata": {},
   "outputs": [],
   "source": [
    "print(df2.)"
   ]
  },
  {
   "cell_type": "code",
   "execution_count": null,
   "id": "e04acddf",
   "metadata": {},
   "outputs": [],
   "source": []
  }
 ],
 "metadata": {
  "kernelspec": {
   "display_name": "Python 3 (ipykernel)",
   "language": "python",
   "name": "python3"
  },
  "language_info": {
   "codemirror_mode": {
    "name": "ipython",
    "version": 3
   },
   "file_extension": ".py",
   "mimetype": "text/x-python",
   "name": "python",
   "nbconvert_exporter": "python",
   "pygments_lexer": "ipython3",
   "version": "3.9.12"
  }
 },
 "nbformat": 4,
 "nbformat_minor": 5
}
